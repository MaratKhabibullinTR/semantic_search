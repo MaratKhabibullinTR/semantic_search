{
 "cells": [
  {
   "cell_type": "code",
   "execution_count": 3,
   "id": "127e2775",
   "metadata": {},
   "outputs": [],
   "source": [
    "def outer_func():\n",
    "    count = 0\n",
    "\n",
    "    def innfer_func():\n",
    "        nonlocal count\n",
    "        count += 1\n",
    "    \n",
    "    innfer_func()\n",
    "    print(count)"
   ]
  },
  {
   "cell_type": "code",
   "execution_count": 4,
   "id": "1882069a",
   "metadata": {},
   "outputs": [
    {
     "name": "stdout",
     "output_type": "stream",
     "text": [
      "1\n"
     ]
    }
   ],
   "source": [
    "outer_func()"
   ]
  },
  {
   "cell_type": "code",
   "execution_count": null,
   "id": "76603c5f",
   "metadata": {},
   "outputs": [],
   "source": []
  }
 ],
 "metadata": {
  "kernelspec": {
   "display_name": "semantic-search-mcp-py3.11",
   "language": "python",
   "name": "python3"
  },
  "language_info": {
   "codemirror_mode": {
    "name": "ipython",
    "version": 3
   },
   "file_extension": ".py",
   "mimetype": "text/x-python",
   "name": "python",
   "nbconvert_exporter": "python",
   "pygments_lexer": "ipython3",
   "version": "3.11.9"
  }
 },
 "nbformat": 4,
 "nbformat_minor": 5
}
